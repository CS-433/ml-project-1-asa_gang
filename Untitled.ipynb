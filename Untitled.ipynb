{
 "cells": [
  {
   "cell_type": "code",
   "execution_count": 1,
   "id": "59db7723-80ed-479b-976c-14d885fec0bb",
   "metadata": {},
   "outputs": [],
   "source": [
    "from implementations import calculate_loss_log\n",
    "import numpy as np"
   ]
  },
  {
   "cell_type": "code",
   "execution_count": 2,
   "id": "1a030945-21b1-48dc-a97f-dd0d0b51e275",
   "metadata": {},
   "outputs": [
    {
     "data": {
      "text/plain": [
       "array([[1.5336936]])"
      ]
     },
     "execution_count": 2,
     "metadata": {},
     "output_type": "execute_result"
    }
   ],
   "source": [
    "w = np.array([[0.463156], [0.939874]])\n",
    "y = np.array([[0.1], [0.3], [0.5]])\n",
    "tx = np.array([[2.3, 3.2], [1.0, 0.1], [1.4, 2.3]]) \n",
    "y = (y > 0.2) * 1.0\n",
    "calculate_loss_log(y,tx,w)"
   ]
  },
  {
   "cell_type": "code",
   "execution_count": null,
   "id": "104a53f8-1427-41b6-9802-acfb34ba87db",
   "metadata": {},
   "outputs": [],
   "source": []
  }
 ],
 "metadata": {
  "kernelspec": {
   "display_name": "Python 3 (ipykernel)",
   "language": "python",
   "name": "python3"
  },
  "language_info": {
   "codemirror_mode": {
    "name": "ipython",
    "version": 3
   },
   "file_extension": ".py",
   "mimetype": "text/x-python",
   "name": "python",
   "nbconvert_exporter": "python",
   "pygments_lexer": "ipython3",
   "version": "3.8.13"
  }
 },
 "nbformat": 4,
 "nbformat_minor": 5
}
